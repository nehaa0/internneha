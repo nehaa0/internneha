{
  "nbformat": 4,
  "nbformat_minor": 0,
  "metadata": {
    "colab": {
      "provenance": [],
      "authorship_tag": "ABX9TyMnbjMuMZEnOUPJe6AbA6LN",
      "include_colab_link": true
    },
    "kernelspec": {
      "name": "python3",
      "display_name": "Python 3"
    },
    "language_info": {
      "name": "python"
    }
  },
  "cells": [
    {
      "cell_type": "markdown",
      "metadata": {
        "id": "view-in-github",
        "colab_type": "text"
      },
      "source": [
        "<a href=\"https://colab.research.google.com/github/nehaa0/internneha/blob/pythonfile/exception.ipynb\" target=\"_parent\"><img src=\"https://colab.research.google.com/assets/colab-badge.svg\" alt=\"Open In Colab\"/></a>"
      ]
    },
    {
      "cell_type": "code",
      "execution_count": 5,
      "metadata": {
        "colab": {
          "base_uri": "https://localhost:8080/"
        },
        "id": "ePSRVmkjS8E1",
        "outputId": "1f35098d-0475-4b25-c090-35d1613969fb"
      },
      "outputs": [
        {
          "output_type": "stream",
          "name": "stdout",
          "text": [
            "number is not divided by 0\n"
          ]
        }
      ],
      "source": [
        "try:\n",
        "  num=2\n",
        "  n=0\n",
        "  res=num/0\n",
        "except :\n",
        "  print(\"number is not divided by 0\")"
      ]
    },
    {
      "cell_type": "code",
      "source": [
        "\n",
        "num=int(input())\n",
        "try:\n",
        "  for i in range(0,num):\n",
        "    print(i)\n",
        "    if i>=5:\n",
        "      raise Exception(\"number is equal to 5\")\n",
        "except Exception as e:\n",
        "  print(e)\n",
        "\n"
      ],
      "metadata": {
        "colab": {
          "base_uri": "https://localhost:8080/"
        },
        "id": "3nPYGokOZMD-",
        "outputId": "4ec8bfb6-b7c2-4c08-b412-41ef515548f6"
      },
      "execution_count": 16,
      "outputs": [
        {
          "output_type": "stream",
          "name": "stdout",
          "text": [
            "6\n",
            "0\n",
            "1\n",
            "2\n",
            "3\n",
            "4\n",
            "5\n",
            "number is equal to 5\n"
          ]
        }
      ]
    },
    {
      "cell_type": "code",
      "source": [
        "try:\n",
        "  num=int(input(\"enter a number\"))\n",
        "  if num<0:\n",
        "    raise Exception(\"number is less than 0\")\n",
        "except Exception as e:\n",
        "  print(e)\n",
        "finally:\n",
        "  print(\"invalid division\")"
      ],
      "metadata": {
        "colab": {
          "base_uri": "https://localhost:8080/"
        },
        "id": "k3l-zprafy0C",
        "outputId": "777cfb80-3dfa-49de-a1df-192b35ab92ca"
      },
      "execution_count": 20,
      "outputs": [
        {
          "output_type": "stream",
          "name": "stdout",
          "text": [
            "enter a number-3\n",
            "number is less than 0\n",
            "invalid division\n"
          ]
        }
      ]
    },
    {
      "cell_type": "code",
      "source": [
        "try:\n",
        "  num=int(input(\"enter a number\"))\n",
        "  if num<0:\n",
        "    raise Exception(\"number is less than 0\")\n",
        "except Exception as e:\n",
        "  print(e)\n",
        "else:\n",
        "  print(\"execution successfully\")\n",
        "\n",
        "\n"
      ],
      "metadata": {
        "colab": {
          "base_uri": "https://localhost:8080/"
        },
        "id": "RbuN37eDePca",
        "outputId": "8dadd8e1-e320-4719-ceeb-9fda889b38f7"
      },
      "execution_count": 19,
      "outputs": [
        {
          "output_type": "stream",
          "name": "stdout",
          "text": [
            "enter a number5\n",
            "execution successfully\n",
            "invalid division\n"
          ]
        }
      ]
    }
  ]
}