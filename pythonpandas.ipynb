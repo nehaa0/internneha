{
  "nbformat": 4,
  "nbformat_minor": 0,
  "metadata": {
    "colab": {
      "provenance": [],
      "authorship_tag": "ABX9TyNR5ieOEayhkd9Yiez2v6+V",
      "include_colab_link": true
    },
    "kernelspec": {
      "name": "python3",
      "display_name": "Python 3"
    },
    "language_info": {
      "name": "python"
    }
  },
  "cells": [
    {
      "cell_type": "markdown",
      "metadata": {
        "id": "view-in-github",
        "colab_type": "text"
      },
      "source": [
        "<a href=\"https://colab.research.google.com/github/nehaa0/internneha/blob/pythonfile/pythonpandas.ipynb\" target=\"_parent\"><img src=\"https://colab.research.google.com/assets/colab-badge.svg\" alt=\"Open In Colab\"/></a>"
      ]
    },
    {
      "cell_type": "code",
      "execution_count": 1,
      "metadata": {
        "colab": {
          "base_uri": "https://localhost:8080/"
        },
        "id": "1Hk2YZfCYR62",
        "outputId": "ddf2ca84-6980-4d49-efaf-62c4169eaeec"
      },
      "outputs": [
        {
          "output_type": "stream",
          "name": "stdout",
          "text": [
            "Reading package lists... Done\n",
            "Building dependency tree... Done\n",
            "Reading state information... Done\n",
            "mysql-server is already the newest version (8.0.36-0ubuntu0.22.04.1).\n",
            "0 upgraded, 0 newly installed, 0 to remove and 32 not upgraded.\n",
            " * Starting MySQL database server mysqld\n",
            "   ...done.\n",
            "Requirement already satisfied: mysql-connector-python in /usr/local/lib/python3.10/dist-packages (8.3.0)\n",
            "(1, 'To Kill a Mockingbird', 'Harper Lee', None)\n",
            "(2, '1984', 'George Orwell', 1949)\n",
            "(3, 'The Great Gatsby', 'F. Scott Fitzgerald', 1925)\n",
            "(19, 'To Kill a Mockingbird', 'Harper Lee', 1960)\n",
            "(20, '1984', 'George Orwell', 1949)\n",
            "(21, 'The Great Gatsby', 'F. Scott Fitzgerald', 1925)\n"
          ]
        }
      ],
      "source": [
        "!apt-get -y install mysql-server\n",
        "!sudo service mysql start\n",
        "!pip install mysql-connector-python\n",
        "\n",
        "import mysql.connector\n",
        "\n",
        "# Create a connection to the MySQL server\n",
        "conn = mysql.connector.connect(user='root', password='root', unix_socket='/var/run/mysqld/mysqld.sock')\n",
        "cursor = conn.cursor()\n",
        "cursor.execute(\"CREATE DATABASE IF NOT EXISTS library\")\n",
        "\n",
        "# Switch to the 'library' database\n",
        "cursor.execute(\"USE library\")\n",
        "\n",
        "# Create the 'books' table\n",
        "cursor.execute('''\n",
        "CREATE TABLE IF NOT EXISTS books (\n",
        "    id INT AUTO_INCREMENT PRIMARY KEY,\n",
        "    title VARCHAR(255) NOT NULL,\n",
        "    author VARCHAR(255) NOT NULL,\n",
        "    year_published INT\n",
        ")\n",
        "''')\n",
        "\n",
        "books_data = [\n",
        "    (\"To Kill a Mockingbird\", \"Harper Lee\", 1960),\n",
        "    (\"1984\", \"George Orwell\", 1949),\n",
        "    (\"The Great Gatsby\", \"F. Scott Fitzgerald\", 1925),\n",
        "\n",
        "]\n",
        "\n",
        "# Insert data using the cursor\n",
        "cursor.executemany('''\n",
        "INSERT INTO books (title, author, year_published) VALUES (%s, %s, %s)\n",
        "''', books_data)\n",
        "\n",
        "# Commit the changes\n",
        "conn.commit()\n",
        "cursor.execute(\"SELECT * FROM books\")\n",
        "\n",
        "# Fetch all the results\n",
        "records = cursor.fetchall()\n",
        "\n",
        "# Print the records\n",
        "for record in records:\n",
        "    print(record)\n",
        "cursor.close()\n",
        "conn.close()"
      ]
    },
    {
      "cell_type": "code",
      "source": [
        "import mysql.connector as sql\n",
        "from tabulate import tabulate\n",
        "import pandas as pd\n",
        "\n",
        "conn = mysql.connector.connect(user='root', password='root',unix_socket='/var/run/mysqld/mysqld.sock' , database='library')\n",
        "\n",
        "cursor = conn.cursor()\n",
        "\n",
        "\n",
        "cursor.execute('SELECT * FROM books')\n",
        "\n",
        "table_rows = cursor.fetchall()\n",
        "\n",
        "df = pd.DataFrame(table_rows)\n",
        "print(tabulate(df, headers = 'keys', tablefmt = 'psql'))"
      ],
      "metadata": {
        "colab": {
          "base_uri": "https://localhost:8080/"
        },
        "id": "Fw9IFEgUZ5d5",
        "outputId": "e9ca9488-31ba-4333-f688-f91c645d5391"
      },
      "execution_count": 25,
      "outputs": [
        {
          "output_type": "stream",
          "name": "stdout",
          "text": [
            "+----+-----+-----------------------+---------------------+------+\n",
            "|    |   0 | 1                     | 2                   |    3 |\n",
            "|----+-----+-----------------------+---------------------+------|\n",
            "|  0 |   1 | To Kill a Mockingbird | Harper Lee          | 1960 |\n",
            "|  1 |   2 | 1984                  | George Orwell       | 1949 |\n",
            "|  2 |   3 | The Great Gatsby      | F. Scott Fitzgerald | 1925 |\n",
            "+----+-----+-----------------------+---------------------+------+\n"
          ]
        }
      ]
    },
    {
      "cell_type": "code",
      "source": [
        "!mysql -e\"update library.books set year_published=NULL where author='Harper Lee'\"\n",
        "!mysql -e\"select * from library.books\""
      ],
      "metadata": {
        "id": "bpaOiLo4owhU",
        "outputId": "c0ee1df4-973e-4ea9-9b46-4d775135a5d6",
        "colab": {
          "base_uri": "https://localhost:8080/"
        }
      },
      "execution_count": 2,
      "outputs": [
        {
          "output_type": "stream",
          "name": "stdout",
          "text": [
            "+----+-----------------------+---------------------+----------------+\n",
            "| id | title                 | author              | year_published |\n",
            "+----+-----------------------+---------------------+----------------+\n",
            "|  1 | To Kill a Mockingbird | Harper Lee          |           NULL |\n",
            "|  2 | 1984                  | George Orwell       |           1949 |\n",
            "|  3 | The Great Gatsby      | F. Scott Fitzgerald |           1925 |\n",
            "| 19 | To Kill a Mockingbird | Harper Lee          |           NULL |\n",
            "| 20 | 1984                  | George Orwell       |           1949 |\n",
            "| 21 | The Great Gatsby      | F. Scott Fitzgerald |           1925 |\n",
            "+----+-----------------------+---------------------+----------------+\n"
          ]
        }
      ]
    }
  ]
}