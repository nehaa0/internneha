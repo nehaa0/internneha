{
  "nbformat": 4,
  "nbformat_minor": 0,
  "metadata": {
    "colab": {
      "provenance": [],
      "authorship_tag": "ABX9TyPBmI5DRZJRrUbG+JboQK4L",
      "include_colab_link": true
    },
    "kernelspec": {
      "name": "python3",
      "display_name": "Python 3"
    },
    "language_info": {
      "name": "python"
    }
  },
  "cells": [
    {
      "cell_type": "markdown",
      "metadata": {
        "id": "view-in-github",
        "colab_type": "text"
      },
      "source": [
        "<a href=\"https://colab.research.google.com/github/nehaa0/internneha/blob/pythonfile/neha.ipynb\" target=\"_parent\"><img src=\"https://colab.research.google.com/assets/colab-badge.svg\" alt=\"Open In Colab\"/></a>"
      ]
    },
    {
      "cell_type": "code",
      "execution_count": null,
      "metadata": {
        "colab": {
          "base_uri": "https://localhost:8080/"
        },
        "id": "rG4inGlLhoiL",
        "outputId": "3eb13b6c-98eb-4e14-d2fc-a9bfa265d4f6"
      },
      "outputs": [
        {
          "output_type": "stream",
          "name": "stdout",
          "text": [
            "hello world\n"
          ]
        }
      ],
      "source": [
        "print('hello world')"
      ]
    },
    {
      "cell_type": "code",
      "source": [],
      "metadata": {
        "id": "o7AnlOO_rFX3"
      },
      "execution_count": null,
      "outputs": []
    },
    {
      "cell_type": "code",
      "source": [
        "a=input('enter a number:')\n",
        "a=int(a)\n",
        "b=input('enter a number:')\n",
        "b=int(b)\n",
        "c=bool(a==b)\n",
        "print(c)"
      ],
      "metadata": {
        "colab": {
          "base_uri": "https://localhost:8080/"
        },
        "id": "Wt-NlHTciY9Z",
        "outputId": "46ea5cac-73f9-4541-cbbc-de4a0376b107"
      },
      "execution_count": null,
      "outputs": [
        {
          "output_type": "stream",
          "name": "stdout",
          "text": [
            "enter a number:5\n",
            "enter a number:6\n",
            "False\n"
          ]
        }
      ]
    },
    {
      "cell_type": "markdown",
      "source": [],
      "metadata": {
        "id": "D97Sd5veiexD"
      }
    },
    {
      "cell_type": "code",
      "source": [
        "a=input('enter a number:')\n",
        "print(type(a))\n",
        "\n",
        "a=int(a)\n",
        "print(type(a))\n",
        "\n",
        "b=input('enter a number:')\n",
        "b=int(b)\n",
        "c=a+b\n",
        "print(\"sum of a and b is:\",c)"
      ],
      "metadata": {
        "colab": {
          "base_uri": "https://localhost:8080/"
        },
        "id": "p-CRfq8snNrm",
        "outputId": "b9127e01-03b6-4f05-fb44-1411347c1f17"
      },
      "execution_count": null,
      "outputs": [
        {
          "output_type": "stream",
          "name": "stdout",
          "text": [
            "enter a number:3\n",
            "<class 'str'>\n",
            "<class 'int'>\n",
            "enter a number:4\n",
            "sum of a and b is: 7\n"
          ]
        }
      ]
    },
    {
      "cell_type": "code",
      "source": [
        "a=input('enter a number:')\n",
        "a=int(a)\n",
        "b=input('enter a number:')\n",
        "b=int(b)\n",
        "c=a+b\n",
        "d=a-b\n",
        "x=a*b\n",
        "y=a%b\n",
        "print(\"sum of a and b is:\",c,\"\\n\")\n",
        "print(\"subtraction of a and b is:\",d,\"\\n\")\n",
        "print(\"multiplication of a and b:\",x,\"\\n\")\n",
        "print(\"reminder of a and b is:\",y)"
      ],
      "metadata": {
        "colab": {
          "base_uri": "https://localhost:8080/"
        },
        "id": "oCuOM6HcrRyP",
        "outputId": "99c30ca7-9bce-4573-fe09-29fda0fd5b4a"
      },
      "execution_count": null,
      "outputs": [
        {
          "output_type": "stream",
          "name": "stdout",
          "text": [
            "enter a number:30\n",
            "enter a number:6\n",
            "sum of a and b is: 36 \n",
            "\n",
            "subtraction of a and b is: 24 \n",
            "\n",
            "multiplication of a and b: 180 \n",
            "\n",
            "reminder of a and b is: 0\n"
          ]
        }
      ]
    },
    {
      "cell_type": "code",
      "source": [
        "a=input(\"enter a number:\")\n",
        "a=int(a)\n",
        "b=input(\"enter sec number for b:\")\n",
        "b=int(a)\n",
        "c=input(\"enter third number for c:\")\n",
        "c=int(c)\n",
        "max\n",
        "if a>b:\n",
        "  max=a\n",
        "else:\n",
        "  max=b\n",
        "if c>max:\n",
        "  max=c\n",
        "if max==a:\n",
        "  print('a is greater',a)\n",
        "elif max==b:\n",
        "  print('b is greater',b)\n",
        "else:\n",
        "  print('c is greater',c)\n",
        "\n",
        "\n",
        "\n",
        "\n",
        "\n"
      ],
      "metadata": {
        "colab": {
          "base_uri": "https://localhost:8080/"
        },
        "id": "kiS8-XMVt7HS",
        "outputId": "15eb4757-735d-417d-e506-400d1e5a3e8c"
      },
      "execution_count": 3,
      "outputs": [
        {
          "output_type": "stream",
          "name": "stdout",
          "text": [
            "enter a number:15\n",
            "enter sec number for b:12\n",
            "enter third number for c:30\n",
            "c is greater 30\n"
          ]
        }
      ]
    },
    {
      "cell_type": "markdown",
      "source": [
        "\\a=input(\"enter a number:\")\n",
        "a=int(a)\n",
        "if a>0:\n",
        "  print(\"a is even number\")\n",
        "elif a<0:\n",
        "  print(\"a is odd number\")\n",
        "else:\n",
        "  print(\"a is zero\")"
      ],
      "metadata": {
        "id": "swFO6DOR6CLG"
      }
    },
    {
      "cell_type": "code",
      "source": [
        "a=input(\"enter a number:\")\n",
        "a=int(a)\n",
        "if a>=0 and a<10:\n",
        "  print(a,'is less than 10')\n",
        "  if a==0:\n",
        "    print('zero')\n",
        "  elif a==1:\n",
        "    print('one')\n",
        "  elif a==2:\n",
        "    print('two')\n",
        "  elif a==3:\n",
        "    print('three')\n",
        "  elif a==4:\n",
        "    print('four')\n",
        "  elif a==5:\n",
        "    print('five')\n",
        "  elif a==6:\n",
        "    print('six')\n",
        "  elif a==7:\n",
        "    print('seven')\n",
        "  elif a==8:\n",
        "    print('eight')\n",
        "  elif a==9:\n",
        "    print('nine')\n",
        "\n",
        "elif a==10:\n",
        "    print('a is equal to 10')\n",
        "    print('ten')\n",
        "elif a>10:\n",
        "  print(a,' is greater than 10')\n",
        "else:\n",
        "  print('invalid input')\n",
        "\n",
        "\n",
        "\n"
      ],
      "metadata": {
        "id": "MJ2r9djoDqr-",
        "colab": {
          "base_uri": "https://localhost:8080/"
        },
        "outputId": "fb3dac73-ec26-4291-b71b-3b74f1d94f16"
      },
      "execution_count": 20,
      "outputs": [
        {
          "output_type": "stream",
          "name": "stdout",
          "text": [
            "enter a number:12\n",
            "12  is greater than 10\n"
          ]
        }
      ]
    },
    {
      "cell_type": "code",
      "source": [
        "a=input(\"enter a number:\")\n",
        "a=int(a)\n",
        "if a>0:\n",
        "  print(\"a is even number\")\n",
        "elif a<0:\n",
        "  print(\"a is odd number\")\n",
        "else:\n",
        "  print(\"a is zero\")"
      ],
      "metadata": {
        "id": "gCdjSTY87hLj"
      },
      "execution_count": null,
      "outputs": []
    }
  ]
}