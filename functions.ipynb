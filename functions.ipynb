{
  "nbformat": 4,
  "nbformat_minor": 0,
  "metadata": {
    "colab": {
      "provenance": [],
      "authorship_tag": "ABX9TyPatboqsZ569JOg49LV2SWu",
      "include_colab_link": true
    },
    "kernelspec": {
      "name": "python3",
      "display_name": "Python 3"
    },
    "language_info": {
      "name": "python"
    }
  },
  "cells": [
    {
      "cell_type": "markdown",
      "metadata": {
        "id": "view-in-github",
        "colab_type": "text"
      },
      "source": [
        "<a href=\"https://colab.research.google.com/github/nehaa0/internneha/blob/pythonfile/functions.ipynb\" target=\"_parent\"><img src=\"https://colab.research.google.com/assets/colab-badge.svg\" alt=\"Open In Colab\"/></a>"
      ]
    },
    {
      "cell_type": "code",
      "execution_count": null,
      "metadata": {
        "colab": {
          "base_uri": "https://localhost:8080/"
        },
        "id": "froLHzIL-MYw",
        "outputId": "d3938c27-e15b-45a0-fc08-4ab7d18832fd"
      },
      "outputs": [
        {
          "name": "stdout",
          "output_type": "stream",
          "text": [
            "enter a number:2\n",
            "enter a number:3\n",
            "enter a number:4\n"
          ]
        },
        {
          "output_type": "execute_result",
          "data": {
            "text/plain": [
              "9"
            ]
          },
          "metadata": {},
          "execution_count": 52
        }
      ],
      "source": [
        "\n",
        "def sum(num1,num2,num3=0):\n",
        "  c=num1+num2+num3\n",
        "  return c\n",
        "a=int(input(\"enter a number:\"))\n",
        "b=int(input(\"enter a number:\"))\n",
        "x=int(input(\"enter a number:\"))\n",
        "sum(a,b)\n",
        "sum(a,b,x)"
      ]
    },
    {
      "cell_type": "code",
      "source": [
        "\n",
        "def sum(num1,num2):\n",
        "  c=num1+num2\n",
        "  return c\n",
        "\n",
        "a=int(input(\"enter a number:\"))\n",
        "b=int(input(\"enter a number:\"))\n",
        "c=sum(a,b)\n",
        "print(c)\n",
        "a=int(input(\"enter a number:\"))\n",
        "b=int(input(\"enter a number:\"))\n",
        "d=sum(a,b)\n",
        "print(d)"
      ],
      "metadata": {
        "colab": {
          "base_uri": "https://localhost:8080/"
        },
        "id": "UK5_89ruMIpd",
        "outputId": "d123ea98-f8ab-4151-9254-b64403d7b223"
      },
      "execution_count": 25,
      "outputs": [
        {
          "output_type": "stream",
          "name": "stdout",
          "text": [
            "enter a number:2\n",
            "enter a number:3\n",
            "5\n",
            "enter a number:2\n",
            "enter a number:4\n",
            "6\n"
          ]
        }
      ]
    },
    {
      "cell_type": "code",
      "source": [
        "def fun(*arg):\n",
        "  size=len(arg)\n",
        "  print(\"size of array:\",size)\n",
        "  print(\"last index value is:\",arg[size-1])\n",
        "fun(12,13,14,15,16)\n",
        "fun(12,23,46,57)\n",
        "fun(23,34,56)\n",
        "fun(45,34)\n"
      ],
      "metadata": {
        "colab": {
          "base_uri": "https://localhost:8080/"
        },
        "id": "3JnBRpQhCdF3",
        "outputId": "1a7e24a6-7bcc-4aad-a592-e2513b84f89f"
      },
      "execution_count": null,
      "outputs": [
        {
          "output_type": "stream",
          "name": "stdout",
          "text": [
            "size of array: 5\n",
            "last index value is: 16\n",
            "size of array: 4\n",
            "last index value is: 57\n",
            "size of array: 3\n",
            "last index value is: 56\n",
            "size of array: 2\n",
            "last index value is: 34\n"
          ]
        }
      ]
    },
    {
      "cell_type": "code",
      "source": [
        "\n",
        "def armstrong(num):\n",
        "  s=0\n",
        "  while num>0:\n",
        "     n=num%10\n",
        "     s=int(s+(n*n*n))\n",
        "     num=int(num/10)\n",
        "  return s\n",
        "a=int(input(\"enter a number:\"))\n",
        "temp=a\n",
        "b=armstrong(a)\n",
        "if b==temp:\n",
        " print(b,\"armstrong number\")\n",
        "else:\n",
        "  print(\"not a armstrong number\")\n",
        "\n",
        "\n"
      ],
      "metadata": {
        "colab": {
          "base_uri": "https://localhost:8080/"
        },
        "id": "ZeobNIQLF5UQ",
        "outputId": "944cc71d-ca98-4508-acac-cbd84be7bb37"
      },
      "execution_count": 30,
      "outputs": [
        {
          "output_type": "stream",
          "name": "stdout",
          "text": [
            "enter a number:123\n",
            "not a armstrong number\n"
          ]
        }
      ]
    },
    {
      "cell_type": "code",
      "source": [
        "a=int(input(\"enter a number:\"))\n",
        "b=int(input(\"enter a number:\"))\n",
        "\n",
        "for i in range(a,b):\n",
        "  flag=0\n",
        "  for d in range(2,i):\n",
        "    if i%d==0:\n",
        "        flag=1\n",
        "  if flag==0:\n",
        "    print(i)\n",
        "\n",
        "\n"
      ],
      "metadata": {
        "colab": {
          "base_uri": "https://localhost:8080/"
        },
        "id": "y2zeHGIwQ9WU",
        "outputId": "5d17bd92-82a4-480c-8e27-67985a726fe4"
      },
      "execution_count": 20,
      "outputs": [
        {
          "output_type": "stream",
          "name": "stdout",
          "text": [
            "enter a number:21\n",
            "enter a number:34\n",
            "23\n",
            "29\n",
            "31\n"
          ]
        }
      ]
    }
  ]
}