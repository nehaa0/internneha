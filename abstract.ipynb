{
  "nbformat": 4,
  "nbformat_minor": 0,
  "metadata": {
    "colab": {
      "provenance": [],
      "authorship_tag": "ABX9TyM0XokTyg3w7q6jtXLZ8aEc",
      "include_colab_link": true
    },
    "kernelspec": {
      "name": "python3",
      "display_name": "Python 3"
    },
    "language_info": {
      "name": "python"
    }
  },
  "cells": [
    {
      "cell_type": "markdown",
      "metadata": {
        "id": "view-in-github",
        "colab_type": "text"
      },
      "source": [
        "<a href=\"https://colab.research.google.com/github/nehaa0/internneha/blob/pythonfile/abstract.ipynb\" target=\"_parent\"><img src=\"https://colab.research.google.com/assets/colab-badge.svg\" alt=\"Open In Colab\"/></a>"
      ]
    },
    {
      "cell_type": "code",
      "execution_count": 10,
      "metadata": {
        "colab": {
          "base_uri": "https://localhost:8080/"
        },
        "id": "O_OTItYS8HCR",
        "outputId": "89e4f694-9d0b-4911-bc6d-7bf03aa41893"
      },
      "outputs": [
        {
          "output_type": "stream",
          "name": "stdout",
          "text": [
            "cat can meow and move too\n",
            "dog can bark and move too\n"
          ]
        }
      ],
      "source": [
        "from abc import ABC, abstractmethod\n",
        "\n",
        "class animal(ABC):\n",
        "   @abstractmethod\n",
        "   def move(self):\n",
        "       pass\n",
        "\n",
        "class dog(animal):\n",
        "     def move(self):\n",
        "      print(\"dog can bark and move too\")\n",
        "\n",
        "class cat(animal):\n",
        "  def move(self):\n",
        "    print(\"cat can meow and move too\")\n",
        "\n",
        "d=cat()\n",
        "d.move()\n",
        "\n",
        "c=dog()\n",
        "c.move()\n"
      ]
    }
  ]
}