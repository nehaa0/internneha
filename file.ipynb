{
  "nbformat": 4,
  "nbformat_minor": 0,
  "metadata": {
    "colab": {
      "provenance": [],
      "authorship_tag": "ABX9TyN6Hgptlv+U/Bl6sRcT3+4A",
      "include_colab_link": true
    },
    "kernelspec": {
      "name": "python3",
      "display_name": "Python 3"
    },
    "language_info": {
      "name": "python"
    }
  },
  "cells": [
    {
      "cell_type": "markdown",
      "metadata": {
        "id": "view-in-github",
        "colab_type": "text"
      },
      "source": [
        "<a href=\"https://colab.research.google.com/github/nehaa0/internneha/blob/pythonfile/file.ipynb\" target=\"_parent\"><img src=\"https://colab.research.google.com/assets/colab-badge.svg\" alt=\"Open In Colab\"/></a>"
      ]
    },
    {
      "cell_type": "code",
      "execution_count": null,
      "metadata": {
        "colab": {
          "base_uri": "https://localhost:8080/"
        },
        "id": "cjqEOUPRc8aD",
        "outputId": "b91c5439-fd5b-4109-da0e-ea94dfb26adb"
      },
      "outputs": [
        {
          "output_type": "stream",
          "name": "stdout",
          "text": [
            "['print(\"hello my anme is neha\")\\n', 'print(\"hyy\")\\n', 'print(\"more lines\")']\n"
          ]
        }
      ],
      "source": [
        "f=open(\"print.txt\")\n",
        "f.read()\n",
        "f.close()\n",
        "f=open(\"print.txt\")\n",
        "data = f.readlines()\n",
        "print(data)"
      ]
    },
    {
      "cell_type": "code",
      "source": [
        "f=open(\"print.txt\")\n",
        "data = f.readline()\n",
        "print(data)\n",
        "f.close()\n",
        "f=open(\"print.txt\",\"w\")\n",
        "data = f.writelines(\"im in cllg\")\n",
        "print(data)"
      ],
      "metadata": {
        "colab": {
          "base_uri": "https://localhost:8080/"
        },
        "id": "heKEHdZ7moNu",
        "outputId": "b660a653-9dbb-4768-988c-9ce79ca547b8"
      },
      "execution_count": null,
      "outputs": [
        {
          "output_type": "stream",
          "name": "stdout",
          "text": [
            "\n",
            "None\n"
          ]
        }
      ]
    },
    {
      "cell_type": "code",
      "source": [
        "f=open(\"print.txt\")\n",
        "f.read()\n",
        "print(f)"
      ],
      "metadata": {
        "colab": {
          "base_uri": "https://localhost:8080/"
        },
        "id": "i04He_9AqEac",
        "outputId": "7d95bd95-619d-424a-d13c-7dec948af6c1"
      },
      "execution_count": null,
      "outputs": [
        {
          "output_type": "stream",
          "name": "stdout",
          "text": [
            "<_io.TextIOWrapper name='print.txt' mode='r' encoding='UTF-8'>\n"
          ]
        }
      ]
    },
    {
      "cell_type": "code",
      "source": [
        "f=open(\"print.txt\",\"a\")\n",
        "f.write(\"i like cats\")\n",
        "print(f)\n",
        "f.close()\n",
        "f=open(\"print.txt\")\n",
        "print(f.read())\n",
        "\n",
        "\n"
      ],
      "metadata": {
        "colab": {
          "base_uri": "https://localhost:8080/"
        },
        "id": "NT0JHa2eqdr5",
        "outputId": "84adf3ba-41cc-4a3f-f0df-bc57bbfe1e04"
      },
      "execution_count": null,
      "outputs": [
        {
          "output_type": "stream",
          "name": "stdout",
          "text": [
            "<_io.TextIOWrapper name='print.txt' mode='a' encoding='UTF-8'>\n",
            "im in cllgi like catsi like catsi like cats\n"
          ]
        }
      ]
    }
  ]
}