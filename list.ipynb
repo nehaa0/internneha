{
  "nbformat": 4,
  "nbformat_minor": 0,
  "metadata": {
    "colab": {
      "provenance": [],
      "authorship_tag": "ABX9TyMCRimxBYaiyNsrqK+4KO47",
      "include_colab_link": true
    },
    "kernelspec": {
      "name": "python3",
      "display_name": "Python 3"
    },
    "language_info": {
      "name": "python"
    }
  },
  "cells": [
    {
      "cell_type": "markdown",
      "metadata": {
        "id": "view-in-github",
        "colab_type": "text"
      },
      "source": [
        "<a href=\"https://colab.research.google.com/github/nehaa0/internneha/blob/pythonfile/list.ipynb\" target=\"_parent\"><img src=\"https://colab.research.google.com/assets/colab-badge.svg\" alt=\"Open In Colab\"/></a>"
      ]
    },
    {
      "cell_type": "code",
      "execution_count": 27,
      "metadata": {
        "colab": {
          "base_uri": "https://localhost:8080/"
        },
        "id": "J5H4RON4-pLm",
        "outputId": "85d6571a-716e-486d-d089-c81c206de35f"
      },
      "outputs": [
        {
          "output_type": "stream",
          "name": "stdout",
          "text": [
            "adding a value:\n",
            "['neha', 'arju', 'payal', 'mansvi', 'sejal']\n",
            "inserting a value in a specific index:\n",
            "['neha', 'arju', 'payal', 'mansvi', 'garima', 'sejal']\n",
            "removing a value:\n",
            "['arju', 'payal', 'mansvi', 'garima', 'sejal']\n",
            "false\n",
            "range of list:\n",
            "['mansvi', 'garima']\n",
            "specific index value:\n",
            "sejal\n",
            "false\n"
          ]
        }
      ],
      "source": [
        "string_list=list(('neha','arju','payal','mansvi'))\n",
        "string_list.append('sejal')\n",
        "print(\"adding a value:\")\n",
        "print(string_list)\n",
        "string_list.insert(4,'garima')\n",
        "print(\"inserting a value in a specific index:\")\n",
        "print(string_list)\n",
        "string_list.remove('neha')\n",
        "print(\"removing a value:\")\n",
        "print(string_list)\n",
        "if 'neha' in string_list:\n",
        "  print(\"true\")\n",
        "else:\n",
        "  print(\"false\")\n",
        "print(\"range of list:\")\n",
        "print(string_list[2:4])\n",
        "print(\"specific index value:\")\n",
        "print(string_list[4])\n",
        "if 'neha' in string_list:\n",
        "  print(\"true\")\n",
        "else:\n",
        "  print(\"false\")"
      ]
    },
    {
      "cell_type": "code",
      "source": [
        "list1=list((\"audi\",'BMW','Jaguar','suv'))\n",
        "list2=list(('KTM','Bullet','Apache'))\n",
        "list1.extend(list2)\n",
        "print(list1)\n",
        "print(list1.pop(3))\n",
        "print(\"removing value by index\")\n",
        "print(list1)"
      ],
      "metadata": {
        "colab": {
          "base_uri": "https://localhost:8080/"
        },
        "id": "dccaqd9xGuwb",
        "outputId": "7d8db4db-e76d-4159-cc48-92f09e29674b"
      },
      "execution_count": 26,
      "outputs": [
        {
          "output_type": "stream",
          "name": "stdout",
          "text": [
            "['audi', 'BMW', 'Jaguar', 'suv', 'KTM', 'Bullet', 'Apache']\n",
            "suv\n",
            "['audi', 'BMW', 'Jaguar', 'KTM', 'Bullet', 'Apache']\n"
          ]
        }
      ]
    }
  ]
}