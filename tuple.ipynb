{
  "nbformat": 4,
  "nbformat_minor": 0,
  "metadata": {
    "colab": {
      "provenance": [],
      "authorship_tag": "ABX9TyOpm4GX8UAC/l7Hc7D0cLb0",
      "include_colab_link": true
    },
    "kernelspec": {
      "name": "python3",
      "display_name": "Python 3"
    },
    "language_info": {
      "name": "python"
    }
  },
  "cells": [
    {
      "cell_type": "markdown",
      "metadata": {
        "id": "view-in-github",
        "colab_type": "text"
      },
      "source": [
        "<a href=\"https://colab.research.google.com/github/nehaa0/internneha/blob/pythonfile/tuple.ipynb\" target=\"_parent\"><img src=\"https://colab.research.google.com/assets/colab-badge.svg\" alt=\"Open In Colab\"/></a>"
      ]
    },
    {
      "cell_type": "code",
      "execution_count": null,
      "metadata": {
        "colab": {
          "base_uri": "https://localhost:8080/"
        },
        "id": "W8Dzm5R3lmA7",
        "outputId": "3cdcf905-f294-44a9-bb55-739fa4c85379"
      },
      "outputs": [
        {
          "output_type": "stream",
          "name": "stdout",
          "text": [
            "('mango', 'orange', 'grapes')\n",
            "mango\n",
            "['mango', 'orange', 'gavava']\n"
          ]
        }
      ],
      "source": [
        "tuple_list=tuple((\"mango\",\"orange\",\"grapes\"))\n",
        "print(tuple_list)\n",
        "\n",
        "print(tuple_list[0])\n",
        "new_list=list(tuple_list)\n",
        "new_list.append(\"gavava\")\n",
        "new_list.pop(1)\n",
        "new_list[1]=\"orange\"\n",
        "print(new_list)"
      ]
    },
    {
      "cell_type": "code",
      "source": [],
      "metadata": {
        "id": "rDj2fEhSSj4o"
      },
      "execution_count": null,
      "outputs": []
    },
    {
      "cell_type": "code",
      "source": [
        "tuple_list=(\"mango\",\"orange\",\"grapes\",\"mango\")\n",
        "res=[]\n",
        "for v in range(len(tuple_list)):\n",
        "   tuples=tuple_list[v]\n",
        "   count=0\n",
        "   for val in range(len(tuple_list)):\n",
        "     if v==val:\n",
        "      continue\n",
        "     if tuple_list[v]==tuple_list[val]:\n",
        "      count+=1\n",
        "   if count>0:\n",
        "     if tuple_list[v] not in res:\n",
        "       res.append(tuples)\n",
        "print(res)\n",
        "\n"
      ],
      "metadata": {
        "colab": {
          "base_uri": "https://localhost:8080/"
        },
        "id": "mFAKM3-bpb63",
        "outputId": "808262c6-f3e6-48ff-a1f9-b3146c9e0a15"
      },
      "execution_count": 3,
      "outputs": [
        {
          "output_type": "stream",
          "name": "stdout",
          "text": [
            "['mango']\n"
          ]
        }
      ]
    }
  ]
}