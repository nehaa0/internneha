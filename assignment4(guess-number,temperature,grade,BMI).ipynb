{
  "cells": [
    {
      "cell_type": "markdown",
      "metadata": {
        "id": "view-in-github",
        "colab_type": "text"
      },
      "source": [
        "<a href=\"https://colab.research.google.com/github/nehaa0/internneha/blob/pythonfile/assignment4(guess-number%2Ctemperature%2Cgrade%2CBMI).ipynb\" target=\"_parent\"><img src=\"https://colab.research.google.com/assets/colab-badge.svg\" alt=\"Open In Colab\"/></a>"
      ]
    },
    {
      "cell_type": "code",
      "execution_count": 2,
      "metadata": {
        "colab": {
          "base_uri": "https://localhost:8080/"
        },
        "id": "Zhqe6iWusd8E",
        "outputId": "06ef30e9-32cd-441a-9dfa-19ddd77cbffc"
      },
      "outputs": [
        {
          "output_type": "stream",
          "name": "stdout",
          "text": [
            "10\n",
            "guess a number23\n",
            "guess another number12\n",
            "guess another number23\n",
            "guess another number10\n",
            "3\n",
            "10 countered\n"
          ]
        }
      ],
      "source": [
        "import random\n",
        "\n",
        "count=0\n",
        "x=random.randint(1,10)\n",
        "print(x)\n",
        "guess=int(input(\"guess a number\"))\n",
        "while not guess==x:\n",
        "  count+=1\n",
        "  guess=int(input(\"guess another number\"))\n",
        "print(count)\n",
        "if guess==x:\n",
        "   print(x,\"found\")\n"
      ]
    },
    {
      "cell_type": "code",
      "source": [
        "num=int(input('enter the marks '))\n",
        "grade=(num/1000)*100\n",
        "if grade>90:\n",
        "  print(\"your grade is A\")\n",
        "elif grade>80 and grade<90:\n",
        "  print(\"your grade is B\")\n",
        "elif grade>70 and grade<80:\n",
        "  print(\"your grade is C\")\n",
        "elif grade>60 and grade70:\n",
        "  print(\"your grade is D\")\n",
        "elif grade<60:\n",
        "  print(\"you are fail\")"
      ],
      "metadata": {
        "colab": {
          "base_uri": "https://localhost:8080/"
        },
        "id": "PbXOjmV8Mzx_",
        "outputId": "36536aa2-acb1-40bf-f8f2-ad248eb55dbb"
      },
      "execution_count": 4,
      "outputs": [
        {
          "output_type": "stream",
          "name": "stdout",
          "text": [
            "enter the marks 23\n",
            "you are fail\n"
          ]
        }
      ]
    },
    {
      "cell_type": "code",
      "source": [
        "\n",
        "hgt=float(input(\"Enter your height in cm\"))\n",
        "wgt=int(input(\"Enter your weight in kg\"))\n",
        "bmi=wgt/float(hgt/100*hgt/100)\n",
        "if bmi<18.5:\n",
        "  print(\"You are Underweight\")\n",
        "elif bmi<=24.9:\n",
        "  print(\"You are Normal\")\n",
        "elif bmi<=29.9:\n",
        "  print(\"You are Overweight\")\n",
        "else:\n",
        "  print(\"You are Obese\")\n",
        "print(\"Your BMI is \",bmi )"
      ],
      "metadata": {
        "colab": {
          "base_uri": "https://localhost:8080/"
        },
        "id": "jtLrZjiUN-NR",
        "outputId": "2415297d-fd88-4f14-895a-240a53591739"
      },
      "execution_count": 28,
      "outputs": [
        {
          "output_type": "stream",
          "name": "stdout",
          "text": [
            "Enter your height in cm160\n",
            "Enter your weight in kg61\n",
            "You are Normal\n",
            "Your BMI is  23.828125\n"
          ]
        }
      ]
    },
    {
      "cell_type": "code",
      "source": [
        "def temp(num):\n",
        "  #u=chnge into\n",
        "  if num==\"cel\":\n",
        "    if t1==\"f\":\n",
        "      changed=float(t* 1.8 + 32)\n",
        "      return changed\n",
        "    if t1==\"K\":\n",
        "      changed= float(t- 273.15)\n",
        "      return changed\n",
        "  if num==\"fehr\":\n",
        "    if t1==\"c\":\n",
        "      changed=float(t* 1.8 + 32)\n",
        "      return changed\n",
        "    if t1==\"K\":\n",
        "      changed=float(t * 9 / 5 - 459.67)\n",
        "      return changed\n",
        "\n",
        "  if num==\"kel\":\n",
        "    if t1==\"c\":\n",
        "       changed=float(t + 273.15)\n",
        "       return changed\n",
        "    if t1==\"f\":\n",
        "       changed=float((t + 459.67) * 5 / 9)\n",
        "       return changed\n",
        "\n",
        "\n",
        "t=int(input(\"enter the temp.in celsius or fehr. or kelvin\"))\n",
        "t1=input(\"change from:\")\n",
        "u=input(\"change into:\")\n",
        "if u==\"cel\" or u==\"fehr\"or u==\"kel\":\n",
        "  res=temp(u)\n",
        "  print(res,u)\n",
        "else:\n",
        "  print(\"invalid temp.\")"
      ],
      "metadata": {
        "colab": {
          "base_uri": "https://localhost:8080/"
        },
        "id": "23mfFcJETWON",
        "outputId": "41058bd2-3267-44ac-b022-eb1e7b4ab119"
      },
      "execution_count": 26,
      "outputs": [
        {
          "output_type": "stream",
          "name": "stdout",
          "text": [
            "enter the temp.in celsius or fehr. or kelvin25\n",
            "change from:c\n",
            "change into:fehr\n",
            "77.0 fehr\n"
          ]
        }
      ]
    }
  ],
  "metadata": {
    "colab": {
      "provenance": [],
      "authorship_tag": "ABX9TyNDwS5THA3ioNzRrj9lk+IS",
      "include_colab_link": true
    },
    "kernelspec": {
      "display_name": "Python 3",
      "name": "python3"
    },
    "language_info": {
      "name": "python"
    }
  },
  "nbformat": 4,
  "nbformat_minor": 0
}