{
  "nbformat": 4,
  "nbformat_minor": 0,
  "metadata": {
    "colab": {
      "provenance": [],
      "authorship_tag": "ABX9TyP8MOaWQHLVmiNB+tbuSIpd",
      "include_colab_link": true
    },
    "kernelspec": {
      "name": "python3",
      "display_name": "Python 3"
    },
    "language_info": {
      "name": "python"
    }
  },
  "cells": [
    {
      "cell_type": "markdown",
      "metadata": {
        "id": "view-in-github",
        "colab_type": "text"
      },
      "source": [
        "<a href=\"https://colab.research.google.com/github/nehaa0/internneha/blob/pythonfile/oopsclass.ipynb\" target=\"_parent\"><img src=\"https://colab.research.google.com/assets/colab-badge.svg\" alt=\"Open In Colab\"/></a>"
      ]
    },
    {
      "cell_type": "code",
      "execution_count": 14,
      "metadata": {
        "colab": {
          "base_uri": "https://localhost:8080/"
        },
        "id": "2DAoyffJywCh",
        "outputId": "b59fab13-1d43-4543-8f74-e52ffb2eb19b"
      },
      "outputs": [
        {
          "output_type": "stream",
          "name": "stdout",
          "text": [
            "honda\n"
          ]
        }
      ],
      "source": [
        "class vehicle:\n",
        "\n",
        "  def __init__(self,bike):\n",
        "    self.bike=bike\n",
        "    #print(self.bike)\n",
        "b=vehicle(\"honda\")\n",
        "print(b.bike)\n",
        "\n"
      ]
    },
    {
      "cell_type": "code",
      "source": [
        "class vehicle:\n",
        "\n",
        "  def __init__(self,bike,speed):\n",
        "    self.bike=bike\n",
        "    self.speed=speed\n",
        "    #print(self.bike)\n",
        "  def move(self):\n",
        "    print(\"speed of bike is \"+ self.speed)\n",
        "b=vehicle(\"honda\",\"200kmph\")\n",
        "b.move()\n",
        "print(b.bike)"
      ],
      "metadata": {
        "colab": {
          "base_uri": "https://localhost:8080/"
        },
        "id": "GDoaOgzv13xo",
        "outputId": "95f29b08-a8da-41bc-a19a-783e91ec9e01"
      },
      "execution_count": 18,
      "outputs": [
        {
          "output_type": "stream",
          "name": "stdout",
          "text": [
            "speed of bike is 200kmph\n",
            "honda\n"
          ]
        }
      ]
    },
    {
      "cell_type": "code",
      "source": [
        "class user:\n",
        "  def __init__(self,name,age,city,phoneno):\n",
        "    self.name=name\n",
        "    self.age=age\n",
        "    self.city=city\n",
        "    self.phoneno=phoneno\n",
        "  def info(self):\n",
        "    print(\"user information are as follows\")\n",
        "    print(\"\\n name of user : \"+self.name)\n",
        "    print(\"\\n age of user : \"+self.age)\n",
        "    print(\"\\n city of user : \"+self.city)\n",
        "    print(\"\\n phoneno of user : \"+self.phoneno)\n",
        "\n",
        "b=user(\"garima\",\"21\",\"jaipur\",\"123456789\")\n",
        "b.info()\n"
      ],
      "metadata": {
        "colab": {
          "base_uri": "https://localhost:8080/"
        },
        "id": "vxq0Vuuv3E8X",
        "outputId": "04b3b8d4-0fc9-4fbd-b14e-3407540fab5f"
      },
      "execution_count": 21,
      "outputs": [
        {
          "output_type": "stream",
          "name": "stdout",
          "text": [
            "user information are as follows\n",
            "\n",
            " name of user : garima\n",
            "\n",
            " age of user : 21\n",
            "\n",
            " city of user : jaipur\n",
            "\n",
            " phoneno of user : 123456789\n"
          ]
        }
      ]
    },
    {
      "cell_type": "code",
      "source": [
        "class animal:\n",
        "  def move(self):\n",
        "    print(\"animal can move\")\n",
        "class dog(animal):\n",
        "  def legs(self):\n",
        "    print(\"dog barks like dali\")\n",
        "zoo=dog()\n",
        "zoo.move()\n",
        "zoo.legs()"
      ],
      "metadata": {
        "colab": {
          "base_uri": "https://localhost:8080/"
        },
        "id": "cPlbDOwQ3Ip9",
        "outputId": "b54cb1f4-cd27-42ca-fab9-c7d53adc4a27"
      },
      "execution_count": 33,
      "outputs": [
        {
          "output_type": "stream",
          "name": "stdout",
          "text": [
            "animal can move\n",
            "dog barks like dali\n"
          ]
        }
      ]
    }
  ]
}