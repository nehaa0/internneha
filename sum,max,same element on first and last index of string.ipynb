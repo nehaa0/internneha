{
  "nbformat": 4,
  "nbformat_minor": 0,
  "metadata": {
    "colab": {
      "provenance": [],
      "authorship_tag": "ABX9TyMFS391zyv55Qpyh3+FnQSl",
      "include_colab_link": true
    },
    "kernelspec": {
      "name": "python3",
      "display_name": "Python 3"
    },
    "language_info": {
      "name": "python"
    }
  },
  "cells": [
    {
      "cell_type": "markdown",
      "metadata": {
        "id": "view-in-github",
        "colab_type": "text"
      },
      "source": [
        "<a href=\"https://colab.research.google.com/github/nehaa0/internneha/blob/pythonfile/sum%2Cmax%2Csame%20element%20on%20first%20and%20last%20index%20of%20string.ipynb\" target=\"_parent\"><img src=\"https://colab.research.google.com/assets/colab-badge.svg\" alt=\"Open In Colab\"/></a>"
      ]
    },
    {
      "cell_type": "code",
      "execution_count": null,
      "metadata": {
        "colab": {
          "base_uri": "https://localhost:8080/"
        },
        "id": "NBUUZPmwcKYP",
        "outputId": "39f91b41-bac8-4abd-faf6-937d9e9e8716"
      },
      "outputs": [
        {
          "output_type": "stream",
          "name": "stdout",
          "text": [
            "Enter number of elements : 5\n",
            "2\n",
            "-3\n",
            "2\n",
            "6\n",
            "3\n",
            "10\n"
          ]
        }
      ],
      "source": [
        "lst = []\n",
        "\n",
        "n = int(input(\"Enter number of elements : \"))\n",
        "sum=0\n",
        "for i in range(0, n):\n",
        "    ele = int(input())\n",
        "    sum+=ele\n",
        "    lst.append(ele)\n",
        "print(sum)"
      ]
    },
    {
      "cell_type": "code",
      "source": [
        "lst = []\n",
        "\n",
        "n = int(input(\"Enter number of elements : \"))\n",
        "sum=0\n",
        "ele1=int(input())\n",
        "max=ele1\n",
        "for i in range(1, n):\n",
        "    ele = int(input())\n",
        "    if ele>max:\n",
        "      max=ele\n",
        "    lst.append(ele)\n",
        "print(\"max is:\",max)"
      ],
      "metadata": {
        "colab": {
          "base_uri": "https://localhost:8080/"
        },
        "id": "BpJcEhoijjz5",
        "outputId": "dead4200-aff6-4e5a-ff8e-a98ca65ca618"
      },
      "execution_count": null,
      "outputs": [
        {
          "output_type": "stream",
          "name": "stdout",
          "text": [
            "Enter number of elements : 5\n",
            "34\n",
            "67\n",
            "43\n",
            "77\n",
            "99\n",
            "99\n"
          ]
        }
      ]
    },
    {
      "cell_type": "code",
      "source": [
        "lst=[]\n",
        "n=int(input('enter no of elements you want to enter :'))\n",
        "for i in range(n):\n",
        "  name=input()\n",
        "  lst.append(name)\n",
        "print(lst)\n",
        "\n",
        "for x in lst:\n",
        "  length=len(x)\n",
        "  if length>2:\n",
        "    if x[0]==x[length-1]:\n",
        "      print(x)\n"
      ],
      "metadata": {
        "colab": {
          "base_uri": "https://localhost:8080/"
        },
        "id": "BhZYHkBKldBK",
        "outputId": "8aa34de4-5da3-450d-e5e6-31eeb19ccbdc"
      },
      "execution_count": 14,
      "outputs": [
        {
          "output_type": "stream",
          "name": "stdout",
          "text": [
            "enter no of elements you want to enter :3\n",
            "mum\n",
            "sum\n",
            "sis\n",
            "['mum', 'sum', 'sis']\n",
            "mum\n",
            "sis\n"
          ]
        }
      ]
    }
  ]
}