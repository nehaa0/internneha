{
  "nbformat": 4,
  "nbformat_minor": 0,
  "metadata": {
    "colab": {
      "provenance": [],
      "authorship_tag": "ABX9TyOYrT6Iz3+3FhQbha+Vp0L4",
      "include_colab_link": true
    },
    "kernelspec": {
      "name": "python3",
      "display_name": "Python 3"
    },
    "language_info": {
      "name": "python"
    }
  },
  "cells": [
    {
      "cell_type": "markdown",
      "metadata": {
        "id": "view-in-github",
        "colab_type": "text"
      },
      "source": [
        "<a href=\"https://colab.research.google.com/github/nehaa0/internneha/blob/pythonfile/set.ipynb\" target=\"_parent\"><img src=\"https://colab.research.google.com/assets/colab-badge.svg\" alt=\"Open In Colab\"/></a>"
      ]
    },
    {
      "cell_type": "code",
      "execution_count": 34,
      "metadata": {
        "colab": {
          "base_uri": "https://localhost:8080/"
        },
        "id": "XXRfbVB7uxdQ",
        "outputId": "e32fd405-3f08-4e7a-8367-588b565a93bd"
      },
      "outputs": [
        {
          "output_type": "stream",
          "name": "stdout",
          "text": [
            "<class 'set'>\n",
            "set()\n",
            "{'arju'}\n",
            "set()\n",
            "{'khushi', 'krishna', 'neha', 'mansvi'}\n",
            "{'krishna', 'neha', 'mansvi'}\n",
            "krishna\n",
            "{'neha', 'mansvi'}\n",
            "138935942051680\n",
            "set()\n",
            "138935942051680\n",
            "{'garima', 'sejal', 'payal'}\n",
            "set() 1\n"
          ]
        }
      ],
      "source": [
        "lis=[\"khushi\",\"krishna\"]\n",
        "set1={\"neha\",\"mansvi\",\"neha\"}\n",
        "set2={\"sejal\",\"garima\",\"payal\"}\n",
        "a=type(set)\n",
        "print(a)\n",
        "print(set)\n",
        "set.add(\"arju\")\n",
        "print(set)\n",
        "set.remove(\"arju\")\n",
        "print(set)\n",
        "set1.update(lis)\n",
        "print(set1)\n",
        "set1.discard(\"khushi\")\n",
        "print(set1)\n",
        "print(set1.pop())\n",
        "print(set1)\n",
        "print (id(set1))\n",
        "set1.clear()\n",
        "print(set1)\n",
        "print(id(set1))\n",
        "\n",
        "print(set1.union(set2))\n",
        "set1.intersection_update(set2)\n",
        "print(set1,\"1\")\n",
        "\n"
      ]
    },
    {
      "cell_type": "code",
      "source": [
        "user_input={\"grapes\"}"
      ],
      "metadata": {
        "id": "52vxwb_dzilM"
      },
      "execution_count": null,
      "outputs": []
    }
  ]
}